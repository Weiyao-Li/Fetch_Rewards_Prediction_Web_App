{
  "nbformat": 4,
  "nbformat_minor": 0,
  "metadata": {
    "colab": {
      "provenance": [],
      "gpuType": "T4"
    },
    "kernelspec": {
      "name": "python3",
      "display_name": "Python 3"
    },
    "language_info": {
      "name": "python"
    },
    "accelerator": "GPU"
  },
  "cells": [
    {
      "cell_type": "code",
      "execution_count": null,
      "metadata": {
        "id": "9WCNj5tVoNSM"
      },
      "outputs": [],
      "source": [
        "import numpy as np\n",
        "import pandas as pd\n",
        "import torch\n",
        "from google.colab import drive"
      ]
    },
    {
      "cell_type": "code",
      "source": [
        "drive.mount('/content/drive')"
      ],
      "metadata": {
        "colab": {
          "base_uri": "https://localhost:8080/"
        },
        "id": "tHQk8V5pqeeb",
        "outputId": "5132d77c-b423-4bd7-aa8b-21ee786f2316"
      },
      "execution_count": null,
      "outputs": [
        {
          "output_type": "stream",
          "name": "stdout",
          "text": [
            "Drive already mounted at /content/drive; to attempt to forcibly remount, call drive.mount(\"/content/drive\", force_remount=True).\n"
          ]
        }
      ]
    },
    {
      "cell_type": "code",
      "source": [
        "file_path = \"/content/drive/My Drive/data.csv\"\n",
        "\n",
        "df = pd.read_csv(file_path)\n",
        "\n",
        "print(df.head())"
      ],
      "metadata": {
        "colab": {
          "base_uri": "https://localhost:8080/"
        },
        "id": "oC4F5Pv7pToe",
        "outputId": "0e7af705-9a86-4c3c-e1c0-ad2cb77d5e51"
      },
      "execution_count": null,
      "outputs": [
        {
          "output_type": "stream",
          "name": "stdout",
          "text": [
            "       # Date  Receipt_Count\n",
            "0  2021-01-01        7564766\n",
            "1  2021-01-02        7455524\n",
            "2  2021-01-03        7095414\n",
            "3  2021-01-04        7666163\n",
            "4  2021-01-05        7771289\n"
          ]
        }
      ]
    },
    {
      "cell_type": "code",
      "source": [
        "# preprocess\n",
        "df['# Date'] = pd.to_datetime(df['# Date'])\n",
        "\n",
        "df_monthly = df.resample('M', on='# Date').sum()\n",
        "\n",
        "max_receipt = df_monthly['Receipt_Count'].max()\n",
        "min_receipt = df_monthly['Receipt_Count'].min()\n",
        "df_monthly['Receipt_Count'] = (df_monthly['Receipt_Count'] - min_receipt) / (max_receipt - min_receipt)\n",
        "\n",
        "print(df_monthly)\n",
        "print(max_receipt)\n",
        "print(min_receipt)"
      ],
      "metadata": {
        "id": "HWDPn0fIoe23",
        "colab": {
          "base_uri": "https://localhost:8080/"
        },
        "outputId": "33859267-47a7-4a75-cc7c-746616ab41ab"
      },
      "execution_count": null,
      "outputs": [
        {
          "output_type": "stream",
          "name": "stdout",
          "text": [
            "            Receipt_Count\n",
            "# Date                   \n",
            "2021-01-31       0.185766\n",
            "2021-02-28       0.000000\n",
            "2021-03-31       0.317801\n",
            "2021-04-30       0.340447\n",
            "2021-05-31       0.479544\n",
            "2021-06-30       0.451796\n",
            "2021-07-31       0.608824\n",
            "2021-08-31       0.710778\n",
            "2021-09-30       0.679670\n",
            "2021-10-31       0.844481\n",
            "2021-11-30       0.845816\n",
            "2021-12-31       1.000000\n",
            "309948684\n",
            "220033460\n"
          ]
        }
      ]
    },
    {
      "cell_type": "code",
      "source": [
        "#data spliting\n",
        "train_data = df_monthly.iloc[:10]['Receipt_Count'].values\n",
        "val_data = df_monthly.iloc[10:]['Receipt_Count'].values\n",
        "\n",
        "print(train_data)\n",
        "print(val_data)"
      ],
      "metadata": {
        "colab": {
          "base_uri": "https://localhost:8080/"
        },
        "id": "tBv-kiwioe4q",
        "outputId": "f4499ac6-4411-411b-e0e5-01033899acc8"
      },
      "execution_count": null,
      "outputs": [
        {
          "output_type": "stream",
          "name": "stdout",
          "text": [
            "[0.18576639 0.         0.31780119 0.34044702 0.4795438  0.45179646\n",
            " 0.60882396 0.71077809 0.67967015 0.8444813 ]\n",
            "[0.84581563 1.        ]\n"
          ]
        }
      ]
    },
    {
      "cell_type": "code",
      "source": [
        "import torch\n",
        "\n",
        "train_tensor = torch.FloatTensor(train_data).view(-1)\n",
        "val_tensor = torch.FloatTensor(val_data).view(-1)"
      ],
      "metadata": {
        "id": "M9ajXnTWoe6f"
      },
      "execution_count": null,
      "outputs": []
    },
    {
      "cell_type": "code",
      "source": [
        "from torch.utils.data import DataLoader, TensorDataset\n",
        "\n",
        "def create_sequences(data, seq_length):\n",
        "    sequences = []\n",
        "    target = []\n",
        "    for i in range(len(data) - seq_length):\n",
        "        seq = data[i:i+seq_length]\n",
        "        label = data[i+seq_length:i+seq_length+1]\n",
        "        sequences.append(seq)\n",
        "        target.append(label)\n",
        "    return torch.stack(sequences), torch.stack(target)\n",
        "\n",
        "seq_length_train = 3\n",
        "seq_length_val = 1\n",
        "\n",
        "train_sequences, train_labels = create_sequences(train_tensor, seq_length_train)\n",
        "val_sequences, val_labels = create_sequences(val_tensor, seq_length_val)\n",
        "\n",
        "train_dataset = TensorDataset(train_sequences, train_labels)\n",
        "val_dataset = TensorDataset(val_sequences, val_labels)\n",
        "\n",
        "train_loader = DataLoader(train_dataset, batch_size=1, shuffle=True)\n",
        "val_loader = DataLoader(val_dataset, batch_size=1, shuffle=False)\n",
        "\n"
      ],
      "metadata": {
        "id": "wsPs0ahaoe8v"
      },
      "execution_count": null,
      "outputs": []
    },
    {
      "cell_type": "code",
      "source": [
        "import torch.nn as nn\n",
        "\n",
        "class LSTMModel(nn.Module):\n",
        "    def __init__(self, input_dim, hidden_dim, num_layers):\n",
        "        super(LSTMModel, self).__init__()\n",
        "        self.lstm = nn.LSTM(input_dim, hidden_dim, num_layers, batch_first=True)\n",
        "        self.linear = nn.Linear(hidden_dim, 1)\n",
        "\n",
        "    def forward(self, x):\n",
        "        out, _ = self.lstm(x)\n",
        "        if len(out.shape) == 2:\n",
        "            out = out.unsqueeze(1)\n",
        "        out = self.linear(out[:, -1, :])\n",
        "        return out\n",
        "\n",
        "\n",
        "input_dim = 1\n",
        "hidden_dim = 32\n",
        "num_layers = 1\n",
        "\n",
        "model = LSTMModel(input_dim, hidden_dim, num_layers)\n"
      ],
      "metadata": {
        "id": "aGQvH3jRoe-4"
      },
      "execution_count": null,
      "outputs": []
    },
    {
      "cell_type": "code",
      "source": [
        "import torch.optim as optim\n",
        "\n",
        "criterion = nn.MSELoss()\n",
        "optimizer = optim.Adam(model.parameters(), lr=0.001)\n"
      ],
      "metadata": {
        "id": "uqTdToeoofAv"
      },
      "execution_count": null,
      "outputs": []
    },
    {
      "cell_type": "code",
      "source": [
        "num_epochs = 100\n",
        "\n",
        "# Training loop\n",
        "for epoch in range(num_epochs):\n",
        "    for batch_seq, batch_labels in train_loader:\n",
        "        # Forward pass\n",
        "        outputs = model(batch_seq.view(-1, seq_length_train, 1))\n",
        "        loss = criterion(outputs, batch_labels)\n",
        "\n",
        "        # Backward pass and optimization\n",
        "        optimizer.zero_grad()\n",
        "        loss.backward()\n",
        "        optimizer.step()\n",
        "\n",
        "    # Validate the model\n",
        "    val_loss = 0\n",
        "    with torch.no_grad():\n",
        "        for val_seq, val_labels in val_loader:\n",
        "            val_outputs = model(val_seq.view(-1, seq_length_val, 1))\n",
        "            val_loss += criterion(val_outputs, val_labels).item()\n",
        "    val_loss /= len(val_loader)\n",
        "\n",
        "    print(f'Epoch [{epoch+1}/{num_epochs}], Loss: {loss.item():.4f}, Val Loss: {val_loss:.4f}')\n"
      ],
      "metadata": {
        "id": "MhfYsIqZofCl",
        "colab": {
          "base_uri": "https://localhost:8080/"
        },
        "outputId": "411164e6-bdf3-40db-c053-f01b0153ca96"
      },
      "execution_count": null,
      "outputs": [
        {
          "output_type": "stream",
          "name": "stdout",
          "text": [
            "Epoch [1/100], Loss: 0.3671, Val Loss: 1.1943\n",
            "Epoch [2/100], Loss: 0.4453, Val Loss: 1.1274\n",
            "Epoch [3/100], Loss: 0.4927, Val Loss: 1.0640\n",
            "Epoch [4/100], Loss: 0.3545, Val Loss: 1.0007\n",
            "Epoch [5/100], Loss: 0.4644, Val Loss: 0.9392\n",
            "Epoch [6/100], Loss: 0.2319, Val Loss: 0.8783\n",
            "Epoch [7/100], Loss: 0.0056, Val Loss: 0.8165\n",
            "Epoch [8/100], Loss: 0.0555, Val Loss: 0.7643\n",
            "Epoch [9/100], Loss: 0.0022, Val Loss: 0.7161\n",
            "Epoch [10/100], Loss: 0.0008, Val Loss: 0.6871\n",
            "Epoch [11/100], Loss: 0.0072, Val Loss: 0.6704\n",
            "Epoch [12/100], Loss: 0.0086, Val Loss: 0.6673\n",
            "Epoch [13/100], Loss: 0.0074, Val Loss: 0.6697\n",
            "Epoch [14/100], Loss: 0.0001, Val Loss: 0.6752\n",
            "Epoch [15/100], Loss: 0.0341, Val Loss: 0.6856\n",
            "Epoch [16/100], Loss: 0.0096, Val Loss: 0.6845\n",
            "Epoch [17/100], Loss: 0.0003, Val Loss: 0.6814\n",
            "Epoch [18/100], Loss: 0.0278, Val Loss: 0.6779\n",
            "Epoch [19/100], Loss: 0.0309, Val Loss: 0.6830\n",
            "Epoch [20/100], Loss: 0.0094, Val Loss: 0.6828\n",
            "Epoch [21/100], Loss: 0.0283, Val Loss: 0.6804\n",
            "Epoch [22/100], Loss: 0.0231, Val Loss: 0.6757\n",
            "Epoch [23/100], Loss: 0.0001, Val Loss: 0.6737\n",
            "Epoch [24/100], Loss: 0.0261, Val Loss: 0.6732\n",
            "Epoch [25/100], Loss: 0.0242, Val Loss: 0.6787\n",
            "Epoch [26/100], Loss: 0.0236, Val Loss: 0.6743\n",
            "Epoch [27/100], Loss: 0.0000, Val Loss: 0.6737\n",
            "Epoch [28/100], Loss: 0.0002, Val Loss: 0.6777\n",
            "Epoch [29/100], Loss: 0.0071, Val Loss: 0.6791\n",
            "Epoch [30/100], Loss: 0.0234, Val Loss: 0.6800\n",
            "Epoch [31/100], Loss: 0.0067, Val Loss: 0.6775\n",
            "Epoch [32/100], Loss: 0.0177, Val Loss: 0.6714\n",
            "Epoch [33/100], Loss: 0.0063, Val Loss: 0.6768\n",
            "Epoch [34/100], Loss: 0.0005, Val Loss: 0.6739\n",
            "Epoch [35/100], Loss: 0.0002, Val Loss: 0.6754\n",
            "Epoch [36/100], Loss: 0.0057, Val Loss: 0.6756\n",
            "Epoch [37/100], Loss: 0.0159, Val Loss: 0.6718\n",
            "Epoch [38/100], Loss: 0.0002, Val Loss: 0.6737\n",
            "Epoch [39/100], Loss: 0.0050, Val Loss: 0.6744\n",
            "Epoch [40/100], Loss: 0.0000, Val Loss: 0.6742\n",
            "Epoch [41/100], Loss: 0.0004, Val Loss: 0.6753\n",
            "Epoch [42/100], Loss: 0.0138, Val Loss: 0.6704\n",
            "Epoch [43/100], Loss: 0.0147, Val Loss: 0.6683\n",
            "Epoch [44/100], Loss: 0.0061, Val Loss: 0.6777\n",
            "Epoch [45/100], Loss: 0.0102, Val Loss: 0.6742\n",
            "Epoch [46/100], Loss: 0.0131, Val Loss: 0.6727\n",
            "Epoch [47/100], Loss: 0.0127, Val Loss: 0.6762\n",
            "Epoch [48/100], Loss: 0.0138, Val Loss: 0.6704\n",
            "Epoch [49/100], Loss: 0.0107, Val Loss: 0.6680\n",
            "Epoch [50/100], Loss: 0.0009, Val Loss: 0.6695\n",
            "Epoch [51/100], Loss: 0.0053, Val Loss: 0.6763\n",
            "Epoch [52/100], Loss: 0.0112, Val Loss: 0.6735\n",
            "Epoch [53/100], Loss: 0.0010, Val Loss: 0.6694\n",
            "Epoch [54/100], Loss: 0.0095, Val Loss: 0.6757\n",
            "Epoch [55/100], Loss: 0.0030, Val Loss: 0.6702\n",
            "Epoch [56/100], Loss: 0.0060, Val Loss: 0.6712\n",
            "Epoch [57/100], Loss: 0.0057, Val Loss: 0.6708\n",
            "Epoch [58/100], Loss: 0.0072, Val Loss: 0.6738\n",
            "Epoch [59/100], Loss: 0.0134, Val Loss: 0.6676\n",
            "Epoch [60/100], Loss: 0.0051, Val Loss: 0.6714\n",
            "Epoch [61/100], Loss: 0.0019, Val Loss: 0.6739\n",
            "Epoch [62/100], Loss: 0.0026, Val Loss: 0.6694\n",
            "Epoch [63/100], Loss: 0.0116, Val Loss: 0.6693\n",
            "Epoch [64/100], Loss: 0.0020, Val Loss: 0.6681\n",
            "Epoch [65/100], Loss: 0.0031, Val Loss: 0.6715\n",
            "Epoch [66/100], Loss: 0.0032, Val Loss: 0.6704\n",
            "Epoch [67/100], Loss: 0.0029, Val Loss: 0.6737\n",
            "Epoch [68/100], Loss: 0.0010, Val Loss: 0.6718\n",
            "Epoch [69/100], Loss: 0.0030, Val Loss: 0.6699\n",
            "Epoch [70/100], Loss: 0.0029, Val Loss: 0.6703\n",
            "Epoch [71/100], Loss: 0.0043, Val Loss: 0.6629\n",
            "Epoch [72/100], Loss: 0.0027, Val Loss: 0.6689\n",
            "Epoch [73/100], Loss: 0.0009, Val Loss: 0.6744\n",
            "Epoch [74/100], Loss: 0.0084, Val Loss: 0.6721\n",
            "Epoch [75/100], Loss: 0.0040, Val Loss: 0.6721\n",
            "Epoch [76/100], Loss: 0.0028, Val Loss: 0.6667\n",
            "Epoch [77/100], Loss: 0.0038, Val Loss: 0.6710\n",
            "Epoch [78/100], Loss: 0.0014, Val Loss: 0.6698\n",
            "Epoch [79/100], Loss: 0.0024, Val Loss: 0.6708\n",
            "Epoch [80/100], Loss: 0.0114, Val Loss: 0.6652\n",
            "Epoch [81/100], Loss: 0.0122, Val Loss: 0.6648\n",
            "Epoch [82/100], Loss: 0.0026, Val Loss: 0.6712\n",
            "Epoch [83/100], Loss: 0.0013, Val Loss: 0.6744\n",
            "Epoch [84/100], Loss: 0.0004, Val Loss: 0.6690\n",
            "Epoch [85/100], Loss: 0.0008, Val Loss: 0.6666\n",
            "Epoch [86/100], Loss: 0.0005, Val Loss: 0.6699\n",
            "Epoch [87/100], Loss: 0.0031, Val Loss: 0.6737\n",
            "Epoch [88/100], Loss: 0.0003, Val Loss: 0.6674\n",
            "Epoch [89/100], Loss: 0.0117, Val Loss: 0.6637\n",
            "Epoch [90/100], Loss: 0.0002, Val Loss: 0.6677\n",
            "Epoch [91/100], Loss: 0.0008, Val Loss: 0.6716\n",
            "Epoch [92/100], Loss: 0.0036, Val Loss: 0.6723\n",
            "Epoch [93/100], Loss: 0.0014, Val Loss: 0.6691\n",
            "Epoch [94/100], Loss: 0.0027, Val Loss: 0.6690\n",
            "Epoch [95/100], Loss: 0.0001, Val Loss: 0.6651\n",
            "Epoch [96/100], Loss: 0.0044, Val Loss: 0.6643\n",
            "Epoch [97/100], Loss: 0.0067, Val Loss: 0.6733\n",
            "Epoch [98/100], Loss: 0.0003, Val Loss: 0.6673\n",
            "Epoch [99/100], Loss: 0.0049, Val Loss: 0.6682\n",
            "Epoch [100/100], Loss: 0.0062, Val Loss: 0.6713\n"
          ]
        }
      ]
    },
    {
      "cell_type": "code",
      "source": [
        "model.eval()\n",
        "\n",
        "predictions = []\n",
        "\n",
        "with torch.no_grad():\n",
        "    for batch_seq, _ in val_loader:\n",
        "        outputs = model(batch_seq.view(-1, seq_length_val, 1))\n",
        "        predictions.append(outputs.item())\n",
        "\n",
        "print(\"Predictions:\", predictions)\n"
      ],
      "metadata": {
        "colab": {
          "base_uri": "https://localhost:8080/"
        },
        "id": "6IpHtpTaxj7x",
        "outputId": "a927f183-fef8-413d-beab-97a826cb32cd"
      },
      "execution_count": null,
      "outputs": [
        {
          "output_type": "stream",
          "name": "stdout",
          "text": [
            "Predictions: [0.18067651987075806]\n"
          ]
        }
      ]
    },
    {
      "cell_type": "code",
      "source": [
        "max_receipt = 309948684\n",
        "min_receipt = 220033460\n",
        "\n",
        "scaled_prediction = 0.13805176317691803\n",
        "\n",
        "original_prediction = (scaled_prediction * (max_receipt - min_receipt)) + min_receipt\n",
        "original_prediction"
      ],
      "metadata": {
        "id": "LKjVR_G9ofEY",
        "colab": {
          "base_uri": "https://localhost:8080/"
        },
        "outputId": "827186ab-a8ac-4325-dec8-40d0472d7322"
      },
      "execution_count": null,
      "outputs": [
        {
          "output_type": "execute_result",
          "data": {
            "text/plain": [
              "232446415.20964754"
            ]
          },
          "metadata": {},
          "execution_count": 83
        }
      ]
    },
    {
      "cell_type": "code",
      "source": [
        "min_receipt = 220033460\n",
        "max_receipt = 309948684\n",
        "\n",
        "actual_val_scaled = 1.0\n",
        "\n",
        "actual_val = actual_val_scaled * (max_receipt - min_receipt) + min_receipt\n",
        "actual_val\n"
      ],
      "metadata": {
        "id": "vxqRb2w0ofGl",
        "colab": {
          "base_uri": "https://localhost:8080/"
        },
        "outputId": "f60c54a0-d3e8-48e1-bfc7-2bbf1d26a935"
      },
      "execution_count": null,
      "outputs": [
        {
          "output_type": "execute_result",
          "data": {
            "text/plain": [
              "309948684.0"
            ]
          },
          "metadata": {},
          "execution_count": 84
        }
      ]
    },
    {
      "cell_type": "code",
      "source": [
        "min_receipt = 220033460\n",
        "max_receipt = 309948684\n",
        "\n",
        "predicted_normalized = 0.13805176317691803\n",
        "\n",
        "predicted_original = predicted_normalized * (max_receipt - min_receipt) + min_receipt\n",
        "predicted_original\n"
      ],
      "metadata": {
        "id": "Ym_506URofIc",
        "colab": {
          "base_uri": "https://localhost:8080/"
        },
        "outputId": "aac09f70-1dc6-4ae2-e895-f054b2b1d6df"
      },
      "execution_count": null,
      "outputs": [
        {
          "output_type": "execute_result",
          "data": {
            "text/plain": [
              "232446415.20964754"
            ]
          },
          "metadata": {},
          "execution_count": 85
        }
      ]
    },
    {
      "cell_type": "code",
      "source": [
        "import math\n",
        "\n",
        "ground_truth = [0.84581563, 1.0]\n",
        "predictions = [0.13805176317691803]\n",
        "\n",
        "predictions = [0.13805176317691803, 0.13805176317691803]\n",
        "\n",
        "squared_diffs = [(pred - truth)**2 for pred, truth in zip(predictions, ground_truth)]\n",
        "\n",
        "mean_squared_diff = sum(squared_diffs) / len(squared_diffs)\n",
        "\n",
        "rmse = math.sqrt(mean_squared_diff)\n",
        "rmse\n"
      ],
      "metadata": {
        "id": "2c6ZinCXofKc",
        "colab": {
          "base_uri": "https://localhost:8080/"
        },
        "outputId": "6adc00be-8b6e-4204-9178-d8e967026820"
      },
      "execution_count": null,
      "outputs": [
        {
          "output_type": "execute_result",
          "data": {
            "text/plain": [
              "0.7886331384562727"
            ]
          },
          "metadata": {},
          "execution_count": 86
        }
      ]
    },
    {
      "cell_type": "code",
      "source": [
        "torch.save(model.state_dict(), \"/content/drive/My Drive/model\")"
      ],
      "metadata": {
        "id": "SIBNUnl80Vev"
      },
      "execution_count": null,
      "outputs": []
    },
    {
      "cell_type": "code",
      "source": [],
      "metadata": {
        "id": "CgbPue_90Vaz"
      },
      "execution_count": null,
      "outputs": []
    },
    {
      "cell_type": "code",
      "source": [],
      "metadata": {
        "id": "ful5eRPY0VY4"
      },
      "execution_count": null,
      "outputs": []
    },
    {
      "cell_type": "code",
      "source": [],
      "metadata": {
        "id": "u-71C39p0VWx"
      },
      "execution_count": null,
      "outputs": []
    },
    {
      "cell_type": "code",
      "source": [],
      "metadata": {
        "id": "YHbtr2Ff0VP8"
      },
      "execution_count": null,
      "outputs": []
    }
  ]
}